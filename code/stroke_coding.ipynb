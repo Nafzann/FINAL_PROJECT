{
 "cells": [
  {
   "cell_type": "markdown",
   "id": "3c024810",
   "metadata": {},
   "source": [
    "# STROKE PREDICTION DATASET"
   ]
  },
  {
   "cell_type": "markdown",
   "id": "5a0bcb18",
   "metadata": {},
   "source": [
    "According to the World Health Organization (WHO) stroke is the 2nd leading cause of death globally, responsible for approximately 11% of total deaths.\n",
    "This dataset is used to predict whether a patient is likely to get stroke based on the input parameters like gender, age, various diseases, and smoking status. Each row in the data provides relavant information about the patient.\n",
    "\n",
    "This dataset is retrieved from https://www.kaggle.com/fedesoriano/stroke-prediction-dataset"
   ]
  },
  {
   "cell_type": "markdown",
   "id": "17fc5830",
   "metadata": {},
   "source": [
    "The dataset consist of 12 columns with one unique identifier 'id' and one predictive value 'stroke'. The description for other columns are as follows:\n",
    "1) id: unique identifier\n",
    "\n",
    "2) gender: \"Male\", \"Female\" or \"Other\"\n",
    "\n",
    "3) age: age of the patient\n",
    "\n",
    "4) hypertension: 0 if the patient doesn't have hypertension, 1 if the patient has hypertension\n",
    "\n",
    "5) heart_disease: 0 if the patient doesn't have any heart diseases, 1 if the patient has a heart disease\n",
    "\n",
    "6) ever_married: \"No\" or \"Yes\"\n",
    "\n",
    "7) work_type: \"children\", \"Govt_jov\", \"Never_worked\", \"Private\" or \"Self-employed\"\n",
    "\n",
    "8) Residence_type: \"Rural\" or \"Urban\"\n",
    "\n",
    "9) avg_glucose_level: average glucose level in blood\n",
    "\n",
    "10) bmi: body mass index\n",
    "\n",
    "11) smoking_status: \"formerly smoked\", \"never smoked\", \"smokes\" or \"Unknown\"*\n",
    "\n",
    "12) stroke: 1 if the patient had a stroke or 0 if not\n",
    "\n",
    "*Note: \"Unknown\" in smoking_status means that the information is unavailable for this patient"
   ]
  },
  {
   "cell_type": "markdown",
   "id": "6a52ceb5",
   "metadata": {},
   "source": [
    "# IMPORTING PACKAGES AND READING DATASET"
   ]
  },
  {
   "cell_type": "code",
   "execution_count": 16,
   "id": "7a687ecf",
   "metadata": {},
   "outputs": [],
   "source": [
    "import pandas as pd\n",
    "import numpy as np\n",
    "import matplotlib.pyplot as plt \n",
    "plt.rc(\"font\", size=14)\n",
    "import seaborn as sns\n",
    "sns.set(style=\"white\")\n",
    "sns.set(style=\"whitegrid\", color_codes=True)\n",
    "%matplotlib inline"
   ]
  },
  {
   "cell_type": "code",
   "execution_count": 17,
   "id": "42897ff7",
   "metadata": {},
   "outputs": [
    {
     "data": {
      "text/html": [
       "<div>\n",
       "<style scoped>\n",
       "    .dataframe tbody tr th:only-of-type {\n",
       "        vertical-align: middle;\n",
       "    }\n",
       "\n",
       "    .dataframe tbody tr th {\n",
       "        vertical-align: top;\n",
       "    }\n",
       "\n",
       "    .dataframe thead th {\n",
       "        text-align: right;\n",
       "    }\n",
       "</style>\n",
       "<table border=\"1\" class=\"dataframe\">\n",
       "  <thead>\n",
       "    <tr style=\"text-align: right;\">\n",
       "      <th></th>\n",
       "      <th>id</th>\n",
       "      <th>gender</th>\n",
       "      <th>age</th>\n",
       "      <th>hypertension</th>\n",
       "      <th>heart_disease</th>\n",
       "      <th>ever_married</th>\n",
       "      <th>work_type</th>\n",
       "      <th>Residence_type</th>\n",
       "      <th>avg_glucose_level</th>\n",
       "      <th>bmi</th>\n",
       "      <th>smoking_status</th>\n",
       "      <th>stroke</th>\n",
       "    </tr>\n",
       "  </thead>\n",
       "  <tbody>\n",
       "    <tr>\n",
       "      <th>0</th>\n",
       "      <td>9046</td>\n",
       "      <td>Male</td>\n",
       "      <td>67.0</td>\n",
       "      <td>0</td>\n",
       "      <td>1</td>\n",
       "      <td>Yes</td>\n",
       "      <td>Private</td>\n",
       "      <td>Urban</td>\n",
       "      <td>228.69</td>\n",
       "      <td>36.6</td>\n",
       "      <td>formerly smoked</td>\n",
       "      <td>1</td>\n",
       "    </tr>\n",
       "    <tr>\n",
       "      <th>1</th>\n",
       "      <td>51676</td>\n",
       "      <td>Female</td>\n",
       "      <td>61.0</td>\n",
       "      <td>0</td>\n",
       "      <td>0</td>\n",
       "      <td>Yes</td>\n",
       "      <td>Self-employed</td>\n",
       "      <td>Rural</td>\n",
       "      <td>202.21</td>\n",
       "      <td>NaN</td>\n",
       "      <td>never smoked</td>\n",
       "      <td>1</td>\n",
       "    </tr>\n",
       "    <tr>\n",
       "      <th>2</th>\n",
       "      <td>31112</td>\n",
       "      <td>Male</td>\n",
       "      <td>80.0</td>\n",
       "      <td>0</td>\n",
       "      <td>1</td>\n",
       "      <td>Yes</td>\n",
       "      <td>Private</td>\n",
       "      <td>Rural</td>\n",
       "      <td>105.92</td>\n",
       "      <td>32.5</td>\n",
       "      <td>never smoked</td>\n",
       "      <td>1</td>\n",
       "    </tr>\n",
       "    <tr>\n",
       "      <th>3</th>\n",
       "      <td>60182</td>\n",
       "      <td>Female</td>\n",
       "      <td>49.0</td>\n",
       "      <td>0</td>\n",
       "      <td>0</td>\n",
       "      <td>Yes</td>\n",
       "      <td>Private</td>\n",
       "      <td>Urban</td>\n",
       "      <td>171.23</td>\n",
       "      <td>34.4</td>\n",
       "      <td>smokes</td>\n",
       "      <td>1</td>\n",
       "    </tr>\n",
       "    <tr>\n",
       "      <th>4</th>\n",
       "      <td>1665</td>\n",
       "      <td>Female</td>\n",
       "      <td>79.0</td>\n",
       "      <td>1</td>\n",
       "      <td>0</td>\n",
       "      <td>Yes</td>\n",
       "      <td>Self-employed</td>\n",
       "      <td>Rural</td>\n",
       "      <td>174.12</td>\n",
       "      <td>24.0</td>\n",
       "      <td>never smoked</td>\n",
       "      <td>1</td>\n",
       "    </tr>\n",
       "  </tbody>\n",
       "</table>\n",
       "</div>"
      ],
      "text/plain": [
       "      id  gender   age  hypertension  heart_disease ever_married  \\\n",
       "0   9046    Male  67.0             0              1          Yes   \n",
       "1  51676  Female  61.0             0              0          Yes   \n",
       "2  31112    Male  80.0             0              1          Yes   \n",
       "3  60182  Female  49.0             0              0          Yes   \n",
       "4   1665  Female  79.0             1              0          Yes   \n",
       "\n",
       "       work_type Residence_type  avg_glucose_level   bmi   smoking_status  \\\n",
       "0        Private          Urban             228.69  36.6  formerly smoked   \n",
       "1  Self-employed          Rural             202.21   NaN     never smoked   \n",
       "2        Private          Rural             105.92  32.5     never smoked   \n",
       "3        Private          Urban             171.23  34.4           smokes   \n",
       "4  Self-employed          Rural             174.12  24.0     never smoked   \n",
       "\n",
       "   stroke  \n",
       "0       1  \n",
       "1       1  \n",
       "2       1  \n",
       "3       1  \n",
       "4       1  "
      ]
     },
     "execution_count": 17,
     "metadata": {},
     "output_type": "execute_result"
    }
   ],
   "source": [
    "data=pd.read_csv('../data/healthcare-dataset-stroke-data1.csv')\n",
    "data.head()"
   ]
  },
  {
   "cell_type": "markdown",
   "id": "861dce73",
   "metadata": {},
   "source": [
    "SETTING 'id' AS THE INDEX VALUE"
   ]
  },
  {
   "cell_type": "code",
   "execution_count": 18,
   "id": "12661376",
   "metadata": {},
   "outputs": [
    {
     "data": {
      "text/html": [
       "<div>\n",
       "<style scoped>\n",
       "    .dataframe tbody tr th:only-of-type {\n",
       "        vertical-align: middle;\n",
       "    }\n",
       "\n",
       "    .dataframe tbody tr th {\n",
       "        vertical-align: top;\n",
       "    }\n",
       "\n",
       "    .dataframe thead th {\n",
       "        text-align: right;\n",
       "    }\n",
       "</style>\n",
       "<table border=\"1\" class=\"dataframe\">\n",
       "  <thead>\n",
       "    <tr style=\"text-align: right;\">\n",
       "      <th></th>\n",
       "      <th>gender</th>\n",
       "      <th>age</th>\n",
       "      <th>hypertension</th>\n",
       "      <th>heart_disease</th>\n",
       "      <th>ever_married</th>\n",
       "      <th>work_type</th>\n",
       "      <th>Residence_type</th>\n",
       "      <th>avg_glucose_level</th>\n",
       "      <th>bmi</th>\n",
       "      <th>smoking_status</th>\n",
       "      <th>stroke</th>\n",
       "    </tr>\n",
       "    <tr>\n",
       "      <th>id</th>\n",
       "      <th></th>\n",
       "      <th></th>\n",
       "      <th></th>\n",
       "      <th></th>\n",
       "      <th></th>\n",
       "      <th></th>\n",
       "      <th></th>\n",
       "      <th></th>\n",
       "      <th></th>\n",
       "      <th></th>\n",
       "      <th></th>\n",
       "    </tr>\n",
       "  </thead>\n",
       "  <tbody>\n",
       "    <tr>\n",
       "      <th>9046</th>\n",
       "      <td>Male</td>\n",
       "      <td>67.0</td>\n",
       "      <td>0</td>\n",
       "      <td>1</td>\n",
       "      <td>Yes</td>\n",
       "      <td>Private</td>\n",
       "      <td>Urban</td>\n",
       "      <td>228.69</td>\n",
       "      <td>36.6</td>\n",
       "      <td>formerly smoked</td>\n",
       "      <td>1</td>\n",
       "    </tr>\n",
       "    <tr>\n",
       "      <th>51676</th>\n",
       "      <td>Female</td>\n",
       "      <td>61.0</td>\n",
       "      <td>0</td>\n",
       "      <td>0</td>\n",
       "      <td>Yes</td>\n",
       "      <td>Self-employed</td>\n",
       "      <td>Rural</td>\n",
       "      <td>202.21</td>\n",
       "      <td>NaN</td>\n",
       "      <td>never smoked</td>\n",
       "      <td>1</td>\n",
       "    </tr>\n",
       "    <tr>\n",
       "      <th>31112</th>\n",
       "      <td>Male</td>\n",
       "      <td>80.0</td>\n",
       "      <td>0</td>\n",
       "      <td>1</td>\n",
       "      <td>Yes</td>\n",
       "      <td>Private</td>\n",
       "      <td>Rural</td>\n",
       "      <td>105.92</td>\n",
       "      <td>32.5</td>\n",
       "      <td>never smoked</td>\n",
       "      <td>1</td>\n",
       "    </tr>\n",
       "    <tr>\n",
       "      <th>60182</th>\n",
       "      <td>Female</td>\n",
       "      <td>49.0</td>\n",
       "      <td>0</td>\n",
       "      <td>0</td>\n",
       "      <td>Yes</td>\n",
       "      <td>Private</td>\n",
       "      <td>Urban</td>\n",
       "      <td>171.23</td>\n",
       "      <td>34.4</td>\n",
       "      <td>smokes</td>\n",
       "      <td>1</td>\n",
       "    </tr>\n",
       "    <tr>\n",
       "      <th>1665</th>\n",
       "      <td>Female</td>\n",
       "      <td>79.0</td>\n",
       "      <td>1</td>\n",
       "      <td>0</td>\n",
       "      <td>Yes</td>\n",
       "      <td>Self-employed</td>\n",
       "      <td>Rural</td>\n",
       "      <td>174.12</td>\n",
       "      <td>24.0</td>\n",
       "      <td>never smoked</td>\n",
       "      <td>1</td>\n",
       "    </tr>\n",
       "  </tbody>\n",
       "</table>\n",
       "</div>"
      ],
      "text/plain": [
       "       gender   age  hypertension  heart_disease ever_married      work_type  \\\n",
       "id                                                                             \n",
       "9046     Male  67.0             0              1          Yes        Private   \n",
       "51676  Female  61.0             0              0          Yes  Self-employed   \n",
       "31112    Male  80.0             0              1          Yes        Private   \n",
       "60182  Female  49.0             0              0          Yes        Private   \n",
       "1665   Female  79.0             1              0          Yes  Self-employed   \n",
       "\n",
       "      Residence_type  avg_glucose_level   bmi   smoking_status  stroke  \n",
       "id                                                                      \n",
       "9046           Urban             228.69  36.6  formerly smoked       1  \n",
       "51676          Rural             202.21   NaN     never smoked       1  \n",
       "31112          Rural             105.92  32.5     never smoked       1  \n",
       "60182          Urban             171.23  34.4           smokes       1  \n",
       "1665           Rural             174.12  24.0     never smoked       1  "
      ]
     },
     "execution_count": 18,
     "metadata": {},
     "output_type": "execute_result"
    }
   ],
   "source": [
    "data.set_index('id',inplace=True)\n",
    "data.head()"
   ]
  },
  {
   "cell_type": "code",
   "execution_count": 19,
   "id": "0efaba7d",
   "metadata": {},
   "outputs": [
    {
     "data": {
      "text/plain": [
       "(5110, 11)"
      ]
     },
     "execution_count": 19,
     "metadata": {},
     "output_type": "execute_result"
    }
   ],
   "source": [
    "data.shape"
   ]
  },
  {
   "cell_type": "markdown",
   "id": "b3a78975",
   "metadata": {},
   "source": [
    "Current dataframe consist of 11 columns with 5110 rows"
   ]
  },
  {
   "cell_type": "markdown",
   "id": "fc189d26",
   "metadata": {},
   "source": [
    "# RESIZING THE DATA AND HANDLING NULL VALUE"
   ]
  },
  {
   "cell_type": "markdown",
   "id": "3450e484",
   "metadata": {},
   "source": [
    "Get names of indexes for which column age has value less than 25 or more than 60 or smoking_status=Unknown\n",
    "\n",
    "Delete these row indexes from dataFrame \n",
    "\n",
    "To minimize the rows number"
   ]
  },
  {
   "cell_type": "code",
   "execution_count": 20,
   "id": "89032b1d",
   "metadata": {},
   "outputs": [],
   "source": [
    "row=data[(data['age'] < 30)  | (data['age'] >70 ) | (data['smoking_status'] == 'Unknown') ].index\n",
    "data.drop(row , inplace=True)\n"
   ]
  },
  {
   "cell_type": "markdown",
   "id": "38a4a6a8",
   "metadata": {},
   "source": [
    "Dropping row with null value"
   ]
  },
  {
   "cell_type": "code",
   "execution_count": 21,
   "id": "bfeead56",
   "metadata": {},
   "outputs": [
    {
     "data": {
      "text/plain": [
       "gender                0\n",
       "age                   0\n",
       "hypertension          0\n",
       "heart_disease         0\n",
       "ever_married          0\n",
       "work_type             0\n",
       "Residence_type        0\n",
       "avg_glucose_level     0\n",
       "bmi                  87\n",
       "smoking_status        0\n",
       "stroke                0\n",
       "dtype: int64"
      ]
     },
     "execution_count": 21,
     "metadata": {},
     "output_type": "execute_result"
    }
   ],
   "source": [
    "data.isnull().sum()"
   ]
  },
  {
   "cell_type": "code",
   "execution_count": 22,
   "id": "ddbd8f6a",
   "metadata": {},
   "outputs": [],
   "source": [
    "data=data.dropna()"
   ]
  },
  {
   "cell_type": "code",
   "execution_count": 23,
   "id": "360b35e6",
   "metadata": {},
   "outputs": [
    {
     "data": {
      "text/plain": [
       "(2241, 11)"
      ]
     },
     "execution_count": 23,
     "metadata": {},
     "output_type": "execute_result"
    }
   ],
   "source": [
    "data.shape"
   ]
  },
  {
   "cell_type": "code",
   "execution_count": 24,
   "id": "b9768628",
   "metadata": {},
   "outputs": [
    {
     "data": {
      "text/plain": [
       "gender                object\n",
       "age                  float64\n",
       "hypertension           int64\n",
       "heart_disease          int64\n",
       "ever_married          object\n",
       "work_type             object\n",
       "Residence_type        object\n",
       "avg_glucose_level    float64\n",
       "bmi                  float64\n",
       "smoking_status        object\n",
       "stroke                 int64\n",
       "dtype: object"
      ]
     },
     "execution_count": 24,
     "metadata": {},
     "output_type": "execute_result"
    }
   ],
   "source": [
    "data.dtypes"
   ]
  },
  {
   "cell_type": "markdown",
   "id": "dc5e83c3",
   "metadata": {},
   "source": [
    "# DATA VISUALIZATION"
   ]
  },
  {
   "cell_type": "markdown",
   "id": "a0ab328a",
   "metadata": {},
   "source": [
    "Change the datatypes of 'age' from float to integer"
   ]
  },
  {
   "cell_type": "code",
   "execution_count": 25,
   "id": "3790785a",
   "metadata": {},
   "outputs": [
    {
     "data": {
      "text/plain": [
       "dtype('int32')"
      ]
     },
     "execution_count": 25,
     "metadata": {},
     "output_type": "execute_result"
    }
   ],
   "source": [
    "data.age = data.age.astype(int)\n",
    "data['age'].dtypes"
   ]
  },
  {
   "cell_type": "code",
   "execution_count": 26,
   "id": "9710c544",
   "metadata": {},
   "outputs": [
    {
     "data": {
      "image/png": "[encoded data removed]",
      "text/plain": [
       "<Figure size 432x288 with 1 Axes>"
      ]
     },
     "metadata": {
      "needs_background": "light"
     },
     "output_type": "display_data"
    }
   ],
   "source": [
    "data['age'].plot(kind='hist', bins=10, color='purple')\n",
    "plt.xlabel('Age')\n",
    "plt.ylabel('Frequency')\n",
    "plt.title('Histogram of Age')\n",
    "plt.show()"
   ]
  },
  {
   "cell_type": "code",
   "execution_count": 27,
   "id": "576f16f5",
   "metadata": {},
   "outputs": [
    {
     "data": {
      "image/png": "[encoded data removed]",
      "text/plain": [
       "<Figure size 432x288 with 1 Axes>"
      ]
     },
     "metadata": {},
     "output_type": "display_data"
    }
   ],
   "source": [
    "data['gender'].value_counts().plot(kind='pie')\n",
    "plt.title('Pie Chart of Gender Distribution')\n",
    "plt.show()"
   ]
  },
  {
   "cell_type": "code",
   "execution_count": 28,
   "id": "7bacb26e",
   "metadata": {},
   "outputs": [
    {
     "data": {
      "text/plain": [
       "No Stroke      2152\n",
       "Have Stroke      89\n",
       "Name: stroke, dtype: int64"
      ]
     },
     "execution_count": 28,
     "metadata": {},
     "output_type": "execute_result"
    }
   ],
   "source": [
    "data.stroke=data['stroke'].replace({0: \"No Stroke\", 1: \"Have Stroke\"})\n",
    "data['stroke'].value_counts()"
   ]
  },
  {
   "cell_type": "code",
   "execution_count": 29,
   "id": "29303158",
   "metadata": {},
   "outputs": [
    {
     "data": {
      "image/png": "[encoded data removed]",
      "text/plain": [
       "<Figure size 432x288 with 1 Axes>"
      ]
     },
     "metadata": {
      "needs_background": "light"
     },
     "output_type": "display_data"
    }
   ],
   "source": [
    "data['stroke'].value_counts().plot(kind='bar', color=['blue','yellow'])\n",
    "plt.title('Frequency of Stroke')\n",
    "plt.xlabel('Existance of Stroke ')\n",
    "plt.ylabel('Frequency')\n",
    "plt.show()"
   ]
  },
  {
   "cell_type": "markdown",
   "id": "9c46f910",
   "metadata": {},
   "source": [
    "CROSSTAB OF THE COLUMN VALUES"
   ]
  },
  {
   "cell_type": "code",
   "execution_count": 30,
   "id": "df713fbf",
   "metadata": {},
   "outputs": [
    {
     "data": {
      "text/plain": [
       "stroke       smoking_status \n",
       "No Stroke    never smoked       1102\n",
       "             formerly smoked     531\n",
       "             smokes              519\n",
       "Have Stroke  formerly smoked      31\n",
       "             never smoked         30\n",
       "             smokes               28\n",
       "dtype: int64"
      ]
     },
     "execution_count": 30,
     "metadata": {},
     "output_type": "execute_result"
    }
   ],
   "source": [
    "data[['stroke','smoking_status']].value_counts()"
   ]
  },
  {
   "cell_type": "code",
   "execution_count": 31,
   "id": "35d5370c",
   "metadata": {},
   "outputs": [
    {
     "data": {
      "image/png": "[encoded data removed]",
      "text/plain": [
       "<Figure size 432x288 with 1 Axes>"
      ]
     },
     "metadata": {
      "needs_background": "light"
     },
     "output_type": "display_data"
    }
   ],
   "source": [
    "pd.crosstab(data.smoking_status, data.stroke).plot(kind='bar', color=['lightgreen','red'])\n",
    "plt.title(\"Frequency of stroke based on smoking status\")\n",
    "plt.xlabel('Smoking Status')\n",
    "plt.ylabel('Frequency')\n",
    "plt.show()"
   ]
  },
  {
   "cell_type": "code",
   "execution_count": 32,
   "id": "b424b587",
   "metadata": {},
   "outputs": [
    {
     "data": {
      "text/plain": [
       "heart_disease       stroke     \n",
       "No Heart Disease    No Stroke      2068\n",
       "Have Heart Disease  No Stroke        84\n",
       "No Heart Disease    Have Stroke      72\n",
       "Have Heart Disease  Have Stroke      17\n",
       "dtype: int64"
      ]
     },
     "execution_count": 32,
     "metadata": {},
     "output_type": "execute_result"
    }
   ],
   "source": [
    "data.heart_disease=data['heart_disease'].replace({0: \"No Heart Disease\", 1: \"Have Heart Disease\"})\n",
    "data[['heart_disease','stroke']].value_counts()"
   ]
  },
  {
   "cell_type": "code",
   "execution_count": 33,
   "id": "e56eb74e",
   "metadata": {},
   "outputs": [
    {
     "data": {
      "image/png": "[encoded data removed]",
      "text/plain": [
       "<Figure size 432x288 with 1 Axes>"
      ]
     },
     "metadata": {
      "needs_background": "light"
     },
     "output_type": "display_data"
    }
   ],
   "source": [
    "pd.crosstab(data.heart_disease, data.stroke).plot(kind='bar', color=['green', 'pink'])\n",
    "plt.title(\"Frequency of stroke based on heart disease\")\n",
    "plt.xlabel('Heart Disease Status')\n",
    "plt.ylabel('Frequency')\n",
    "plt.show()"
   ]
  },
  {
   "cell_type": "code",
   "execution_count": 34,
   "id": "509ecd49",
   "metadata": {},
   "outputs": [
    {
     "data": {
      "text/plain": [
       "hypertension       stroke     \n",
       "No Hypertension    No Stroke      1915\n",
       "Have Hypertension  No Stroke       237\n",
       "No Hypertension    Have Stroke      63\n",
       "Have Hypertension  Have Stroke      26\n",
       "dtype: int64"
      ]
     },
     "execution_count": 34,
     "metadata": {},
     "output_type": "execute_result"
    }
   ],
   "source": [
    "data.hypertension=data['hypertension'].replace({0: \"No Hypertension\", 1: \"Have Hypertension\"})\n",
    "data[['hypertension','stroke']].value_counts()"
   ]
  },
  {
   "cell_type": "code",
   "execution_count": 35,
   "id": "c54ebd13",
   "metadata": {},
   "outputs": [
    {
     "data": {
      "image/png": "[encoded data removed]",
      "text/plain": [
       "<Figure size 432x288 with 1 Axes>"
      ]
     },
     "metadata": {
      "needs_background": "light"
     },
     "output_type": "display_data"
    }
   ],
   "source": [
    "pd.crosstab(data.hypertension,data.stroke).plot(kind='bar', color=['orange', 'grey'])\n",
    "plt.title(\"Frequency of stroke based on existance of hypertension\")\n",
    "plt.xlabel('Hypertension Status')\n",
    "plt.ylabel('Frequency')\n",
    "plt.show()"
   ]
  },
  {
   "cell_type": "code",
   "execution_count": 40,
   "id": "c11a790c",
   "metadata": {},
   "outputs": [
    {
     "data": {
      "text/html": [
       "<div>\n",
       "<style scoped>\n",
       "    .dataframe tbody tr th:only-of-type {\n",
       "        vertical-align: middle;\n",
       "    }\n",
       "\n",
       "    .dataframe tbody tr th {\n",
       "        vertical-align: top;\n",
       "    }\n",
       "\n",
       "    .dataframe thead th {\n",
       "        text-align: right;\n",
       "    }\n",
       "</style>\n",
       "<table border=\"1\" class=\"dataframe\">\n",
       "  <thead>\n",
       "    <tr style=\"text-align: right;\">\n",
       "      <th></th>\n",
       "      <th>gender</th>\n",
       "      <th>age</th>\n",
       "      <th>hypertension</th>\n",
       "      <th>heart_disease</th>\n",
       "      <th>ever_married</th>\n",
       "      <th>work_type</th>\n",
       "      <th>Residence_type</th>\n",
       "      <th>avg_glucose_level</th>\n",
       "      <th>bmi</th>\n",
       "      <th>smoking_status</th>\n",
       "      <th>stroke</th>\n",
       "    </tr>\n",
       "    <tr>\n",
       "      <th>id</th>\n",
       "      <th></th>\n",
       "      <th></th>\n",
       "      <th></th>\n",
       "      <th></th>\n",
       "      <th></th>\n",
       "      <th></th>\n",
       "      <th></th>\n",
       "      <th></th>\n",
       "      <th></th>\n",
       "      <th></th>\n",
       "      <th></th>\n",
       "    </tr>\n",
       "  </thead>\n",
       "  <tbody>\n",
       "    <tr>\n",
       "      <th>47208</th>\n",
       "      <td>Female</td>\n",
       "      <td>70</td>\n",
       "      <td>No Hypertension</td>\n",
       "      <td>No Heart Disease</td>\n",
       "      <td>Yes</td>\n",
       "      <td>Self-employed</td>\n",
       "      <td>Rural</td>\n",
       "      <td>62.67</td>\n",
       "      <td>27.7</td>\n",
       "      <td>never smoked</td>\n",
       "      <td>No Stroke</td>\n",
       "    </tr>\n",
       "    <tr>\n",
       "      <th>11792</th>\n",
       "      <td>Female</td>\n",
       "      <td>70</td>\n",
       "      <td>No Hypertension</td>\n",
       "      <td>No Heart Disease</td>\n",
       "      <td>Yes</td>\n",
       "      <td>Private</td>\n",
       "      <td>Urban</td>\n",
       "      <td>90.49</td>\n",
       "      <td>28.9</td>\n",
       "      <td>formerly smoked</td>\n",
       "      <td>No Stroke</td>\n",
       "    </tr>\n",
       "    <tr>\n",
       "      <th>15873</th>\n",
       "      <td>Male</td>\n",
       "      <td>70</td>\n",
       "      <td>No Hypertension</td>\n",
       "      <td>No Heart Disease</td>\n",
       "      <td>Yes</td>\n",
       "      <td>Private</td>\n",
       "      <td>Rural</td>\n",
       "      <td>72.56</td>\n",
       "      <td>30.4</td>\n",
       "      <td>formerly smoked</td>\n",
       "      <td>No Stroke</td>\n",
       "    </tr>\n",
       "    <tr>\n",
       "      <th>56594</th>\n",
       "      <td>Female</td>\n",
       "      <td>70</td>\n",
       "      <td>No Hypertension</td>\n",
       "      <td>No Heart Disease</td>\n",
       "      <td>Yes</td>\n",
       "      <td>Private</td>\n",
       "      <td>Urban</td>\n",
       "      <td>77.77</td>\n",
       "      <td>33.8</td>\n",
       "      <td>smokes</td>\n",
       "      <td>No Stroke</td>\n",
       "    </tr>\n",
       "    <tr>\n",
       "      <th>3512</th>\n",
       "      <td>Female</td>\n",
       "      <td>70</td>\n",
       "      <td>Have Hypertension</td>\n",
       "      <td>No Heart Disease</td>\n",
       "      <td>Yes</td>\n",
       "      <td>Self-employed</td>\n",
       "      <td>Urban</td>\n",
       "      <td>89.13</td>\n",
       "      <td>34.2</td>\n",
       "      <td>formerly smoked</td>\n",
       "      <td>Have Stroke</td>\n",
       "    </tr>\n",
       "  </tbody>\n",
       "</table>\n",
       "</div>"
      ],
      "text/plain": [
       "       gender  age       hypertension     heart_disease ever_married  \\\n",
       "id                                                                     \n",
       "47208  Female   70    No Hypertension  No Heart Disease          Yes   \n",
       "11792  Female   70    No Hypertension  No Heart Disease          Yes   \n",
       "15873    Male   70    No Hypertension  No Heart Disease          Yes   \n",
       "56594  Female   70    No Hypertension  No Heart Disease          Yes   \n",
       "3512   Female   70  Have Hypertension  No Heart Disease          Yes   \n",
       "\n",
       "           work_type Residence_type  avg_glucose_level   bmi   smoking_status  \\\n",
       "id                                                                              \n",
       "47208  Self-employed          Rural              62.67  27.7     never smoked   \n",
       "11792        Private          Urban              90.49  28.9  formerly smoked   \n",
       "15873        Private          Rural              72.56  30.4  formerly smoked   \n",
       "56594        Private          Urban              77.77  33.8           smokes   \n",
       "3512   Self-employed          Urban              89.13  34.2  formerly smoked   \n",
       "\n",
       "            stroke  \n",
       "id                  \n",
       "47208    No Stroke  \n",
       "11792    No Stroke  \n",
       "15873    No Stroke  \n",
       "56594    No Stroke  \n",
       "3512   Have Stroke  "
      ]
     },
     "execution_count": 40,
     "metadata": {},
     "output_type": "execute_result"
    }
   ],
   "source": [
    "data.sort_values('age').tail(5)"
   ]
  },
  {
   "cell_type": "code",
   "execution_count": 39,
   "id": "b19859a5",
   "metadata": {
    "scrolled": true
   },
   "outputs": [
    {
     "data": {
      "text/html": [
       "<div>\n",
       "<style scoped>\n",
       "    .dataframe tbody tr th:only-of-type {\n",
       "        vertical-align: middle;\n",
       "    }\n",
       "\n",
       "    .dataframe tbody tr th {\n",
       "        vertical-align: top;\n",
       "    }\n",
       "\n",
       "    .dataframe thead th {\n",
       "        text-align: right;\n",
       "    }\n",
       "</style>\n",
       "<table border=\"1\" class=\"dataframe\">\n",
       "  <thead>\n",
       "    <tr style=\"text-align: right;\">\n",
       "      <th></th>\n",
       "      <th>gender</th>\n",
       "      <th>age</th>\n",
       "      <th>hypertension</th>\n",
       "      <th>heart_disease</th>\n",
       "      <th>ever_married</th>\n",
       "      <th>work_type</th>\n",
       "      <th>Residence_type</th>\n",
       "      <th>avg_glucose_level</th>\n",
       "      <th>bmi</th>\n",
       "      <th>smoking_status</th>\n",
       "      <th>stroke</th>\n",
       "    </tr>\n",
       "    <tr>\n",
       "      <th>id</th>\n",
       "      <th></th>\n",
       "      <th></th>\n",
       "      <th></th>\n",
       "      <th></th>\n",
       "      <th></th>\n",
       "      <th></th>\n",
       "      <th></th>\n",
       "      <th></th>\n",
       "      <th></th>\n",
       "      <th></th>\n",
       "      <th></th>\n",
       "    </tr>\n",
       "  </thead>\n",
       "  <tbody>\n",
       "    <tr>\n",
       "      <th>9046</th>\n",
       "      <td>Male</td>\n",
       "      <td>67</td>\n",
       "      <td>No Hypertension</td>\n",
       "      <td>Have Heart Disease</td>\n",
       "      <td>Yes</td>\n",
       "      <td>Private</td>\n",
       "      <td>Urban</td>\n",
       "      <td>228.69</td>\n",
       "      <td>36.6</td>\n",
       "      <td>formerly smoked</td>\n",
       "      <td>Have Stroke</td>\n",
       "    </tr>\n",
       "    <tr>\n",
       "      <th>60182</th>\n",
       "      <td>Female</td>\n",
       "      <td>49</td>\n",
       "      <td>No Hypertension</td>\n",
       "      <td>No Heart Disease</td>\n",
       "      <td>Yes</td>\n",
       "      <td>Private</td>\n",
       "      <td>Urban</td>\n",
       "      <td>171.23</td>\n",
       "      <td>34.4</td>\n",
       "      <td>smokes</td>\n",
       "      <td>Have Stroke</td>\n",
       "    </tr>\n",
       "    <tr>\n",
       "      <th>10434</th>\n",
       "      <td>Female</td>\n",
       "      <td>69</td>\n",
       "      <td>No Hypertension</td>\n",
       "      <td>No Heart Disease</td>\n",
       "      <td>No</td>\n",
       "      <td>Private</td>\n",
       "      <td>Urban</td>\n",
       "      <td>94.39</td>\n",
       "      <td>22.8</td>\n",
       "      <td>never smoked</td>\n",
       "      <td>Have Stroke</td>\n",
       "    </tr>\n",
       "    <tr>\n",
       "      <th>12095</th>\n",
       "      <td>Female</td>\n",
       "      <td>61</td>\n",
       "      <td>No Hypertension</td>\n",
       "      <td>Have Heart Disease</td>\n",
       "      <td>Yes</td>\n",
       "      <td>Govt_job</td>\n",
       "      <td>Rural</td>\n",
       "      <td>120.46</td>\n",
       "      <td>36.8</td>\n",
       "      <td>smokes</td>\n",
       "      <td>Have Stroke</td>\n",
       "    </tr>\n",
       "    <tr>\n",
       "      <th>12175</th>\n",
       "      <td>Female</td>\n",
       "      <td>54</td>\n",
       "      <td>No Hypertension</td>\n",
       "      <td>No Heart Disease</td>\n",
       "      <td>Yes</td>\n",
       "      <td>Private</td>\n",
       "      <td>Urban</td>\n",
       "      <td>104.51</td>\n",
       "      <td>27.3</td>\n",
       "      <td>smokes</td>\n",
       "      <td>Have Stroke</td>\n",
       "    </tr>\n",
       "  </tbody>\n",
       "</table>\n",
       "</div>"
      ],
      "text/plain": [
       "       gender  age     hypertension       heart_disease ever_married  \\\n",
       "id                                                                     \n",
       "9046     Male   67  No Hypertension  Have Heart Disease          Yes   \n",
       "60182  Female   49  No Hypertension    No Heart Disease          Yes   \n",
       "10434  Female   69  No Hypertension    No Heart Disease           No   \n",
       "12095  Female   61  No Hypertension  Have Heart Disease          Yes   \n",
       "12175  Female   54  No Hypertension    No Heart Disease          Yes   \n",
       "\n",
       "      work_type Residence_type  avg_glucose_level   bmi   smoking_status  \\\n",
       "id                                                                         \n",
       "9046    Private          Urban             228.69  36.6  formerly smoked   \n",
       "60182   Private          Urban             171.23  34.4           smokes   \n",
       "10434   Private          Urban              94.39  22.8     never smoked   \n",
       "12095  Govt_job          Rural             120.46  36.8           smokes   \n",
       "12175   Private          Urban             104.51  27.3           smokes   \n",
       "\n",
       "            stroke  \n",
       "id                  \n",
       "9046   Have Stroke  \n",
       "60182  Have Stroke  \n",
       "10434  Have Stroke  \n",
       "12095  Have Stroke  \n",
       "12175  Have Stroke  "
      ]
     },
     "execution_count": 39,
     "metadata": {},
     "output_type": "execute_result"
    }
   ],
   "source": [
    "data.head()"
   ]
  },
  {
   "cell_type": "markdown",
   "id": "c040c5a6",
   "metadata": {},
   "source": [
    "CREATING NEW COLUMN, 'bmi_reading' FROM 'bmi'"
   ]
  },
  {
   "cell_type": "code",
   "execution_count": 23,
   "id": "48613c36",
   "metadata": {
    "scrolled": true
   },
   "outputs": [
    {
     "data": {
      "text/html": [
       "<div>\n",
       "<style scoped>\n",
       "    .dataframe tbody tr th:only-of-type {\n",
       "        vertical-align: middle;\n",
       "    }\n",
       "\n",
       "    .dataframe tbody tr th {\n",
       "        vertical-align: top;\n",
       "    }\n",
       "\n",
       "    .dataframe thead th {\n",
       "        text-align: right;\n",
       "    }\n",
       "</style>\n",
       "<table border=\"1\" class=\"dataframe\">\n",
       "  <thead>\n",
       "    <tr style=\"text-align: right;\">\n",
       "      <th></th>\n",
       "      <th>gender</th>\n",
       "      <th>age</th>\n",
       "      <th>hypertension</th>\n",
       "      <th>heart_disease</th>\n",
       "      <th>ever_married</th>\n",
       "      <th>work_type</th>\n",
       "      <th>Residence_type</th>\n",
       "      <th>avg_glucose_level</th>\n",
       "      <th>bmi</th>\n",
       "      <th>smoking_status</th>\n",
       "      <th>stroke</th>\n",
       "      <th>bmi_reading</th>\n",
       "    </tr>\n",
       "    <tr>\n",
       "      <th>id</th>\n",
       "      <th></th>\n",
       "      <th></th>\n",
       "      <th></th>\n",
       "      <th></th>\n",
       "      <th></th>\n",
       "      <th></th>\n",
       "      <th></th>\n",
       "      <th></th>\n",
       "      <th></th>\n",
       "      <th></th>\n",
       "      <th></th>\n",
       "      <th></th>\n",
       "    </tr>\n",
       "  </thead>\n",
       "  <tbody>\n",
       "    <tr>\n",
       "      <th>9046</th>\n",
       "      <td>Male</td>\n",
       "      <td>67</td>\n",
       "      <td>No Hypertension</td>\n",
       "      <td>Have Heart Disease</td>\n",
       "      <td>Yes</td>\n",
       "      <td>Private</td>\n",
       "      <td>Urban</td>\n",
       "      <td>228.69</td>\n",
       "      <td>36.6</td>\n",
       "      <td>formerly smoked</td>\n",
       "      <td>Have Stroke</td>\n",
       "      <td>obese</td>\n",
       "    </tr>\n",
       "    <tr>\n",
       "      <th>60182</th>\n",
       "      <td>Female</td>\n",
       "      <td>49</td>\n",
       "      <td>No Hypertension</td>\n",
       "      <td>No Heart Disease</td>\n",
       "      <td>Yes</td>\n",
       "      <td>Private</td>\n",
       "      <td>Urban</td>\n",
       "      <td>171.23</td>\n",
       "      <td>34.4</td>\n",
       "      <td>smokes</td>\n",
       "      <td>Have Stroke</td>\n",
       "      <td>obese</td>\n",
       "    </tr>\n",
       "    <tr>\n",
       "      <th>10434</th>\n",
       "      <td>Female</td>\n",
       "      <td>69</td>\n",
       "      <td>No Hypertension</td>\n",
       "      <td>No Heart Disease</td>\n",
       "      <td>No</td>\n",
       "      <td>Private</td>\n",
       "      <td>Urban</td>\n",
       "      <td>94.39</td>\n",
       "      <td>22.8</td>\n",
       "      <td>never smoked</td>\n",
       "      <td>Have Stroke</td>\n",
       "      <td>normal</td>\n",
       "    </tr>\n",
       "    <tr>\n",
       "      <th>12095</th>\n",
       "      <td>Female</td>\n",
       "      <td>61</td>\n",
       "      <td>No Hypertension</td>\n",
       "      <td>Have Heart Disease</td>\n",
       "      <td>Yes</td>\n",
       "      <td>Govt_job</td>\n",
       "      <td>Rural</td>\n",
       "      <td>120.46</td>\n",
       "      <td>36.8</td>\n",
       "      <td>smokes</td>\n",
       "      <td>Have Stroke</td>\n",
       "      <td>obese</td>\n",
       "    </tr>\n",
       "    <tr>\n",
       "      <th>12175</th>\n",
       "      <td>Female</td>\n",
       "      <td>54</td>\n",
       "      <td>No Hypertension</td>\n",
       "      <td>No Heart Disease</td>\n",
       "      <td>Yes</td>\n",
       "      <td>Private</td>\n",
       "      <td>Urban</td>\n",
       "      <td>104.51</td>\n",
       "      <td>27.3</td>\n",
       "      <td>smokes</td>\n",
       "      <td>Have Stroke</td>\n",
       "      <td>overweight</td>\n",
       "    </tr>\n",
       "  </tbody>\n",
       "</table>\n",
       "</div>"
      ],
      "text/plain": [
       "       gender  age     hypertension       heart_disease ever_married  \\\n",
       "id                                                                     \n",
       "9046     Male   67  No Hypertension  Have Heart Disease          Yes   \n",
       "60182  Female   49  No Hypertension    No Heart Disease          Yes   \n",
       "10434  Female   69  No Hypertension    No Heart Disease           No   \n",
       "12095  Female   61  No Hypertension  Have Heart Disease          Yes   \n",
       "12175  Female   54  No Hypertension    No Heart Disease          Yes   \n",
       "\n",
       "      work_type Residence_type  avg_glucose_level   bmi   smoking_status  \\\n",
       "id                                                                         \n",
       "9046    Private          Urban             228.69  36.6  formerly smoked   \n",
       "60182   Private          Urban             171.23  34.4           smokes   \n",
       "10434   Private          Urban              94.39  22.8     never smoked   \n",
       "12095  Govt_job          Rural             120.46  36.8           smokes   \n",
       "12175   Private          Urban             104.51  27.3           smokes   \n",
       "\n",
       "            stroke bmi_reading  \n",
       "id                              \n",
       "9046   Have Stroke       obese  \n",
       "60182  Have Stroke       obese  \n",
       "10434  Have Stroke      normal  \n",
       "12095  Have Stroke       obese  \n",
       "12175  Have Stroke  overweight  "
      ]
     },
     "execution_count": 23,
     "metadata": {},
     "output_type": "execute_result"
    }
   ],
   "source": [
    "values = [\n",
    "    (data['bmi'] < 18.5),\n",
    "    (data['bmi'] <= 24.9),\n",
    "    (data['bmi'] <= 29.9),\n",
    "    (data['bmi'] > 29.9)\n",
    "]\n",
    "\n",
    "reading = ['underweight' , 'normal', 'overweight', 'obese']\n",
    "\n",
    "data['bmi_reading']=np.select(values,reading)\n",
    "data.head()"
   ]
  },
  {
   "cell_type": "markdown",
   "id": "7c2e6808",
   "metadata": {},
   "source": [
    "GROUPBY USING 'stroke' VALUE"
   ]
  },
  {
   "cell_type": "code",
   "execution_count": 44,
   "id": "2bf937d7",
   "metadata": {},
   "outputs": [
    {
     "data": {
      "text/html": [
       "<div>\n",
       "<style scoped>\n",
       "    .dataframe tbody tr th:only-of-type {\n",
       "        vertical-align: middle;\n",
       "    }\n",
       "\n",
       "    .dataframe tbody tr th {\n",
       "        vertical-align: top;\n",
       "    }\n",
       "\n",
       "    .dataframe thead th {\n",
       "        text-align: right;\n",
       "    }\n",
       "</style>\n",
       "<table border=\"1\" class=\"dataframe\">\n",
       "  <thead>\n",
       "    <tr style=\"text-align: right;\">\n",
       "      <th></th>\n",
       "      <th>age</th>\n",
       "      <th>avg_glucose_level</th>\n",
       "      <th>bmi</th>\n",
       "    </tr>\n",
       "    <tr>\n",
       "      <th>stroke</th>\n",
       "      <th></th>\n",
       "      <th></th>\n",
       "      <th></th>\n",
       "    </tr>\n",
       "  </thead>\n",
       "  <tbody>\n",
       "    <tr>\n",
       "      <th>Have Stroke</th>\n",
       "      <td>58.101124</td>\n",
       "      <td>135.408652</td>\n",
       "      <td>32.719101</td>\n",
       "    </tr>\n",
       "    <tr>\n",
       "      <th>No Stroke</th>\n",
       "      <td>49.522770</td>\n",
       "      <td>106.623443</td>\n",
       "      <td>31.366729</td>\n",
       "    </tr>\n",
       "  </tbody>\n",
       "</table>\n",
       "</div>"
      ],
      "text/plain": [
       "                   age  avg_glucose_level        bmi\n",
       "stroke                                              \n",
       "Have Stroke  58.101124         135.408652  32.719101\n",
       "No Stroke    49.522770         106.623443  31.366729"
      ]
     },
     "execution_count": 44,
     "metadata": {},
     "output_type": "execute_result"
    }
   ],
   "source": [
    "data.groupby('stroke').mean()"
   ]
  },
  {
   "cell_type": "markdown",
   "id": "cd52b953",
   "metadata": {},
   "source": [
    "Changing the values in Residence_type columns (\"Urban\":\"U\" , \"Rural\" : \"R\") by applying the dictionary"
   ]
  },
  {
   "cell_type": "code",
   "execution_count": 24,
   "id": "6f31c1fa",
   "metadata": {},
   "outputs": [
    {
     "data": {
      "text/plain": [
       "array(['Urban', 'Rural'], dtype=object)"
      ]
     },
     "execution_count": 24,
     "metadata": {},
     "output_type": "execute_result"
    }
   ],
   "source": [
    "data['Residence_type'].unique()"
   ]
  },
  {
   "cell_type": "code",
   "execution_count": 25,
   "id": "6d44dd21",
   "metadata": {},
   "outputs": [],
   "source": [
    "def residence_letter(residence):\n",
    "    res_dict = {\"Urban\":\"U\" , \"Rural\" : \"R\"}\n",
    "    try:\n",
    "        return res_dict[residence]\n",
    "    except KeyError:\n",
    "        return 'The residence type is not available'"
   ]
  },
  {
   "cell_type": "code",
   "execution_count": 26,
   "id": "8d6028e2",
   "metadata": {},
   "outputs": [
    {
     "data": {
      "text/plain": [
       "'U'"
      ]
     },
     "execution_count": 26,
     "metadata": {},
     "output_type": "execute_result"
    }
   ],
   "source": [
    "residence_letter(\"Urban\")"
   ]
  },
  {
   "cell_type": "code",
   "execution_count": 27,
   "id": "235de1d9",
   "metadata": {},
   "outputs": [
    {
     "data": {
      "text/plain": [
       "'The residence type is not available'"
      ]
     },
     "execution_count": 27,
     "metadata": {},
     "output_type": "execute_result"
    }
   ],
   "source": [
    "residence_letter(\"Town\")"
   ]
  },
  {
   "cell_type": "code",
   "execution_count": 29,
   "id": "9ed8d916",
   "metadata": {},
   "outputs": [],
   "source": [
    "data['Residence_type'] = data['Residence_type'].apply(residence_letter)"
   ]
  },
  {
   "cell_type": "code",
   "execution_count": 30,
   "id": "451938bb",
   "metadata": {},
   "outputs": [
    {
     "data": {
      "text/html": [
       "<div>\n",
       "<style scoped>\n",
       "    .dataframe tbody tr th:only-of-type {\n",
       "        vertical-align: middle;\n",
       "    }\n",
       "\n",
       "    .dataframe tbody tr th {\n",
       "        vertical-align: top;\n",
       "    }\n",
       "\n",
       "    .dataframe thead th {\n",
       "        text-align: right;\n",
       "    }\n",
       "</style>\n",
       "<table border=\"1\" class=\"dataframe\">\n",
       "  <thead>\n",
       "    <tr style=\"text-align: right;\">\n",
       "      <th></th>\n",
       "      <th>gender</th>\n",
       "      <th>age</th>\n",
       "      <th>hypertension</th>\n",
       "      <th>heart_disease</th>\n",
       "      <th>ever_married</th>\n",
       "      <th>work_type</th>\n",
       "      <th>Residence_type</th>\n",
       "      <th>avg_glucose_level</th>\n",
       "      <th>bmi</th>\n",
       "      <th>smoking_status</th>\n",
       "      <th>stroke</th>\n",
       "      <th>bmi_reading</th>\n",
       "    </tr>\n",
       "    <tr>\n",
       "      <th>id</th>\n",
       "      <th></th>\n",
       "      <th></th>\n",
       "      <th></th>\n",
       "      <th></th>\n",
       "      <th></th>\n",
       "      <th></th>\n",
       "      <th></th>\n",
       "      <th></th>\n",
       "      <th></th>\n",
       "      <th></th>\n",
       "      <th></th>\n",
       "      <th></th>\n",
       "    </tr>\n",
       "  </thead>\n",
       "  <tbody>\n",
       "    <tr>\n",
       "      <th>9046</th>\n",
       "      <td>Male</td>\n",
       "      <td>67</td>\n",
       "      <td>No Hypertension</td>\n",
       "      <td>Have Heart Disease</td>\n",
       "      <td>Yes</td>\n",
       "      <td>Private</td>\n",
       "      <td>The residence type is not available</td>\n",
       "      <td>228.69</td>\n",
       "      <td>36.6</td>\n",
       "      <td>formerly smoked</td>\n",
       "      <td>Have Stroke</td>\n",
       "      <td>obese</td>\n",
       "    </tr>\n",
       "    <tr>\n",
       "      <th>60182</th>\n",
       "      <td>Female</td>\n",
       "      <td>49</td>\n",
       "      <td>No Hypertension</td>\n",
       "      <td>No Heart Disease</td>\n",
       "      <td>Yes</td>\n",
       "      <td>Private</td>\n",
       "      <td>The residence type is not available</td>\n",
       "      <td>171.23</td>\n",
       "      <td>34.4</td>\n",
       "      <td>smokes</td>\n",
       "      <td>Have Stroke</td>\n",
       "      <td>obese</td>\n",
       "    </tr>\n",
       "    <tr>\n",
       "      <th>10434</th>\n",
       "      <td>Female</td>\n",
       "      <td>69</td>\n",
       "      <td>No Hypertension</td>\n",
       "      <td>No Heart Disease</td>\n",
       "      <td>No</td>\n",
       "      <td>Private</td>\n",
       "      <td>The residence type is not available</td>\n",
       "      <td>94.39</td>\n",
       "      <td>22.8</td>\n",
       "      <td>never smoked</td>\n",
       "      <td>Have Stroke</td>\n",
       "      <td>normal</td>\n",
       "    </tr>\n",
       "    <tr>\n",
       "      <th>12095</th>\n",
       "      <td>Female</td>\n",
       "      <td>61</td>\n",
       "      <td>No Hypertension</td>\n",
       "      <td>Have Heart Disease</td>\n",
       "      <td>Yes</td>\n",
       "      <td>Govt_job</td>\n",
       "      <td>The residence type is not available</td>\n",
       "      <td>120.46</td>\n",
       "      <td>36.8</td>\n",
       "      <td>smokes</td>\n",
       "      <td>Have Stroke</td>\n",
       "      <td>obese</td>\n",
       "    </tr>\n",
       "    <tr>\n",
       "      <th>12175</th>\n",
       "      <td>Female</td>\n",
       "      <td>54</td>\n",
       "      <td>No Hypertension</td>\n",
       "      <td>No Heart Disease</td>\n",
       "      <td>Yes</td>\n",
       "      <td>Private</td>\n",
       "      <td>The residence type is not available</td>\n",
       "      <td>104.51</td>\n",
       "      <td>27.3</td>\n",
       "      <td>smokes</td>\n",
       "      <td>Have Stroke</td>\n",
       "      <td>overweight</td>\n",
       "    </tr>\n",
       "  </tbody>\n",
       "</table>\n",
       "</div>"
      ],
      "text/plain": [
       "       gender  age     hypertension       heart_disease ever_married  \\\n",
       "id                                                                     \n",
       "9046     Male   67  No Hypertension  Have Heart Disease          Yes   \n",
       "60182  Female   49  No Hypertension    No Heart Disease          Yes   \n",
       "10434  Female   69  No Hypertension    No Heart Disease           No   \n",
       "12095  Female   61  No Hypertension  Have Heart Disease          Yes   \n",
       "12175  Female   54  No Hypertension    No Heart Disease          Yes   \n",
       "\n",
       "      work_type                       Residence_type  avg_glucose_level   bmi  \\\n",
       "id                                                                              \n",
       "9046    Private  The residence type is not available             228.69  36.6   \n",
       "60182   Private  The residence type is not available             171.23  34.4   \n",
       "10434   Private  The residence type is not available              94.39  22.8   \n",
       "12095  Govt_job  The residence type is not available             120.46  36.8   \n",
       "12175   Private  The residence type is not available             104.51  27.3   \n",
       "\n",
       "        smoking_status       stroke bmi_reading  \n",
       "id                                               \n",
       "9046   formerly smoked  Have Stroke       obese  \n",
       "60182           smokes  Have Stroke       obese  \n",
       "10434     never smoked  Have Stroke      normal  \n",
       "12095           smokes  Have Stroke       obese  \n",
       "12175           smokes  Have Stroke  overweight  "
      ]
     },
     "execution_count": 30,
     "metadata": {},
     "output_type": "execute_result"
    }
   ],
   "source": [
    "data.head()"
   ]
  },
  {
   "cell_type": "markdown",
   "id": "c1bb3928",
   "metadata": {},
   "source": [
    "USER INPUT FOR DIABETES TRACKING"
   ]
  },
  {
   "cell_type": "code",
   "execution_count": 24,
   "id": "4ac2f967",
   "metadata": {},
   "outputs": [],
   "source": [
    "def diabetes_statement():\n",
    "    print(\"This is a function to check risk of getting diabetes.\")\n",
    "    glucose_reading=float(input(\"Enter your fasting blood glucose reading (mg/dl): \"))\n",
    "    \n",
    "    if (glucose_reading < 100):\n",
    "        print(\"Your blood glucose level is normal\")\n",
    "    elif(glucose_reading <= 125):\n",
    "        print(\"You are at risk of pre-diabetes!!\")\n",
    "        print(\"You should control your food intake!!\")\n",
    "    else:\n",
    "        print(\"Warning!! You're in high risk for diabetes mellitus!!\")\n",
    "        print(\"Please consult your doctor\")"
   ]
  },
  {
   "cell_type": "code",
   "execution_count": 25,
   "id": "0877487c",
   "metadata": {},
   "outputs": [
    {
     "name": "stdout",
     "output_type": "stream",
     "text": [
      "This is a function to check risk of getting diabetes.\n",
      "Enter your fasting blood glucose reading (mg/dl): 78\n",
      "Your blood glucose level is normal\n"
     ]
    }
   ],
   "source": [
    "diabetes_statement()"
   ]
  },
  {
   "cell_type": "markdown",
   "id": "35944452",
   "metadata": {},
   "source": [
    "USER INPUT FOR BMI CALCULATOR"
   ]
  },
  {
   "cell_type": "code",
   "execution_count": 32,
   "id": "fbe0d679",
   "metadata": {},
   "outputs": [],
   "source": [
    "def BMI_Calculator():\n",
    "    weight=float(input(\"Enter your weight (kg) : \"))\n",
    "    height=float(input(\"Enter your height (m) : \"))\n",
    "            \n",
    "    BMI=weight/(height*height)\n",
    "    \n",
    "    if (BMI<18.5):\n",
    "        bmi_reading='underweight'\n",
    "        print(\"Your current BMI is\",bmi_reading)\n",
    "    elif (BMI<=24.9):\n",
    "        bmi_reading='normal'\n",
    "        print(\"Your current BMI is in \",bmi_reading,\"range\")\n",
    "    elif (BMI<=29.9):\n",
    "        bmi_reading='overweight'\n",
    "        print(\"Your current BMI is range of\",bmi_reading)\n",
    "    else:\n",
    "        bmi_reading='obese'\n",
    "        print(\"Your current BMI is range of\",bmi_reading)"
   ]
  },
  {
   "cell_type": "code",
   "execution_count": 33,
   "id": "f27ce2c9",
   "metadata": {},
   "outputs": [
    {
     "name": "stdout",
     "output_type": "stream",
     "text": [
      "Enter your weight (kg) : 53\n",
      "Enter your height (m) : 1.55\n",
      "Your current BMI is in  normal range\n"
     ]
    }
   ],
   "source": [
    "BMI_Calculator()"
   ]
  },
  {
   "cell_type": "code",
   "execution_count": null,
   "id": "5f89b054",
   "metadata": {},
   "outputs": [],
   "source": []
  }
 ],
 "metadata": {
  "kernelspec": {
   "display_name": "Python 3",
   "language": "python",
   "name": "python3"
  },
  "language_info": {
   "codemirror_mode": {
    "name": "ipython",
    "version": 3
   },
   "file_extension": ".py",
   "mimetype": "text/x-python",
   "name": "python",
   "nbconvert_exporter": "python",
   "pygments_lexer": "ipython3",
   "version": "3.8.8"
  }
 },
 "nbformat": 4,
 "nbformat_minor": 5
}
